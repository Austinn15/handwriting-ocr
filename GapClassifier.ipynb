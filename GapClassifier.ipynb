{
 "cells": [
  {
   "cell_type": "markdown",
   "metadata": {},
   "source": [
    "# Convolutional Neural Network - Gap / Char Classification\n",
    "Using TensorFlow"
   ]
  },
  {
   "cell_type": "code",
   "execution_count": 1,
   "metadata": {
    "collapsed": false
   },
   "outputs": [
    {
     "name": "stdout",
     "output_type": "stream",
     "text": [
      "OpenCV: 3.1.0-dev\n",
      "Numpy: 1.12.1\n",
      "TensorFlow: 1.0.1\n"
     ]
    }
   ],
   "source": [
    "import numpy as np\n",
    "import pandas as pd\n",
    "import matplotlib.pyplot as plt\n",
    "import tensorflow as tf\n",
    "import cv2\n",
    "\n",
    "%matplotlib notebook\n",
    "\n",
    "# Creating CSV\n",
    "import glob\n",
    "import csv\n",
    "\n",
    "# Helpers\n",
    "from ocr.helpers import implt\n",
    "from ocr.mlhelpers import TrainingPlot, DataSet\n",
    "\n",
    "print(\"OpenCV: \" + cv2.__version__)\n",
    "print(\"Numpy: \" + np.__version__)\n",
    "print(\"TensorFlow: \" + tf.__version__)"
   ]
  },
  {
   "cell_type": "code",
   "execution_count": null,
   "metadata": {
    "collapsed": true
   },
   "outputs": [],
   "source": [
    "def sofmaxLabels(lab):\n",
    "    \"\"\" Transform labels for sofmax classification \"\"\"\n",
    "    newLab = np.zeros((len(lab), 2), dtype=np.int8)\n",
    "    for i in range(len(lab)):\n",
    "        newLab[i][int(lab[i][0])] = 1\n",
    "    return newLab"
   ]
  },
  {
   "cell_type": "markdown",
   "metadata": {
    "collapsed": true
   },
   "source": [
    "## Load Images and Lables in CSV"
   ]
  },
  {
   "cell_type": "code",
   "execution_count": 2,
   "metadata": {
    "collapsed": false
   },
   "outputs": [
    {
     "name": "stdout",
     "output_type": "stream",
     "text": [
      "CSV data files loaded.\n",
      "Number of images: 22234\n",
      "Training images: 20010\n"
     ]
    }
   ],
   "source": [
    "# dimension 30x60 = 1800\n",
    "images = np.genfromtxt('data/gapdet/data.csv', delimiter=',')\n",
    "labels = np.genfromtxt('data/gapdet/labels.csv', delimiter=',')\n",
    "labels = np.reshape(labels, (len(labels), 1))\n",
    "\n",
    "# Additional regularization of image data\n",
    "images[images < 40] = 0\n",
    "images = images.astype(np.float32)\n",
    "images = np.multiply(images, 1.0 / 255.0)\n",
    "\n",
    "print(\"CSV data files loaded.\")\n",
    "print(\"Number of images: \" + str(len(images)))\n",
    "\n",
    "# Splitting on train and test data\n",
    "div = int(0.90 * len(images))\n",
    "\n",
    "llabels = sofmaxLabels(labels)\n",
    "\n",
    "trainData = images[0:div]\n",
    "trainLabels = llabels[0:div]\n",
    "\n",
    "evalData = images[div:]\n",
    "evalLabels = llabels[div:]\n",
    "\n",
    "print(\"Training images: %g\" % div)"
   ]
  },
  {
   "cell_type": "code",
   "execution_count": null,
   "metadata": {
    "collapsed": true
   },
   "outputs": [],
   "source": [
    "\n",
    "\n"
   ]
  },
  {
   "cell_type": "markdown",
   "metadata": {},
   "source": [
    "# Create classifier"
   ]
  },
  {
   "cell_type": "markdown",
   "metadata": {},
   "source": [
    "### Dataset"
   ]
  },
  {
   "cell_type": "code",
   "execution_count": null,
   "metadata": {
    "collapsed": false
   },
   "outputs": [],
   "source": [
    "# Prepare training dataset\n",
    "trainSet = DataSet(trainData, trainLabels)"
   ]
  },
  {
   "cell_type": "markdown",
   "metadata": {},
   "source": [
    "## Convulation Neural Network"
   ]
  },
  {
   "cell_type": "markdown",
   "metadata": {},
   "source": [
    "### Graph"
   ]
  },
  {
   "cell_type": "code",
   "execution_count": null,
   "metadata": {
    "collapsed": false
   },
   "outputs": [],
   "source": [
    "sess = tf.InteractiveSession()\n",
    "\n",
    "# Help functions for standard layers\n",
    "def conv2d(x, W):\n",
    "    return tf.nn.conv2d(x, W, strides=[1, 1, 1, 1], padding='SAME')\n",
    "\n",
    "def max_pool_2x2(x):\n",
    "    return tf.nn.max_pool(x, ksize=[1, 2, 2, 1], strides=[1, 2, 2, 1], padding='SAME')\n",
    "\n",
    "\n",
    "# Place holders for data (x) and labels (y_)\n",
    "x = tf.placeholder(tf.float32, [None, 1800], name=\"x\")\n",
    "y_ = tf.placeholder(tf.float32, [None, 2])\n",
    "\n",
    "# Reshape input data\n",
    "x_image = tf.reshape(x, [-1, 30, 60, 1])\n",
    "\n",
    "# 1. Layer - Convulation + Subsampling\n",
    "W_conv1 = tf.Variable(tf.truncated_normal([5, 5, 1, 20], stddev=0.1), name=\"W_conv1\")\n",
    "b_conv1 = tf.Variable(tf.constant(0.1, shape=[20]), name=\"b_conv1\")\n",
    "\n",
    "h_conv1 = tf.nn.relu(conv2d(x_image, W_conv1) + b_conv1)\n",
    "\n",
    "# 2. Layer - Max Pool\n",
    "h_pool1 = max_pool_2x2(h_conv1)\n",
    "\n",
    "# 3. Layer - Convulation + Subsampling\n",
    "W_conv2 = tf.Variable(tf.truncated_normal([5, 5, 20, 50], stddev=0.1), name=\"W_conv2\")\n",
    "b_conv2 = tf.Variable(tf.constant(0.1, shape=[50]), name=\"b_conv2\")\n",
    "\n",
    "h_conv2 = tf.nn.relu(conv2d(h_pool1, W_conv2) + b_conv2)\n",
    "\n",
    "# 4. Layer - Max Pool\n",
    "h_pool2 = max_pool_2x2(h_conv2)\n",
    "\n",
    "# 5. Fully Connected layer\n",
    "W_fc1 = tf.Variable(tf.truncated_normal([8*15*50, 500], stddev=0.1), name=\"W_fc1\")\n",
    "b_fc1 = tf.Variable(tf.constant(0.1, shape=[500]), name=\"b_fc1\")\n",
    "\n",
    "h_conv2_flat = tf.reshape(h_pool2, [-1, 8*15*50])\n",
    "h_fc1 = tf.nn.relu(tf.matmul(h_conv2_flat, W_fc1) + b_fc1)\n",
    "\n",
    "# 6. Dropout\n",
    "keep_prob = tf.placeholder(tf.float32)\n",
    "h_fc1_drop = tf.nn.dropout(h_fc1, keep_prob)\n",
    "\n",
    "# 7. Output layer\n",
    "W_fc2 = tf.Variable(tf.truncated_normal([500, 2], stddev=0.1), name=\"W_fc2\")\n",
    "b_fc2 = tf.Variable(tf.constant(0.1, shape=[2]), name=\"b_fc2\")\n",
    "\n",
    "y_conv = tf.matmul(h_fc1_drop, W_fc2) + b_fc2\n",
    "\n",
    "\n",
    "# Activation function for real use in application\n",
    "activation = tf.argmax(tf.matmul(h_fc1, W_fc2) + b_fc2, 1)\n",
    "tf.add_to_collection(\"activation\", activation)\n",
    "\n",
    "\n",
    "# Cost: cross entropy + regularization\n",
    "# Regularization with L2 Regularization with decaying learning rate \n",
    "cross_entropy = tf.reduce_mean(tf.nn.softmax_cross_entropy_with_logits(logits=y_conv, labels=y_))\n",
    "\n",
    "beta = 0.001\n",
    "regularizers = tf.nn.l2_loss(W_fc2) + tf.nn.l2_loss(W_fc1)\n",
    "cost = tf.reduce_mean(cross_entropy + beta * regularizers)\n",
    "\n",
    "\n",
    "# Optimizer\n",
    "train_step = tf.train.AdamOptimizer(1e-4).minimize(cost)\n",
    "\n",
    "\n",
    "# Evaluating\n",
    "correct_prediction = tf.equal(tf.argmax(y_conv,1), tf.argmax(y_,1))\n",
    "accuracy = tf.reduce_mean(tf.cast(correct_prediction, tf.float32))"
   ]
  },
  {
   "cell_type": "markdown",
   "metadata": {},
   "source": [
    "### Training"
   ]
  },
  {
   "cell_type": "code",
   "execution_count": null,
   "metadata": {
    "collapsed": false
   },
   "outputs": [],
   "source": [
    "sess.run(tf.global_variables_initializer())\n",
    "saver = tf.train.Saver()\n",
    "\n",
    "# Graph for live ploting\n",
    "trainPlot = TrainingPlot(TRAIN_STEPS, TEST_ITER, COST_ITER)\n",
    "\n",
    "### SETTINGS  ###\n",
    "TRAIN_STEPS = 30000\n",
    "TEST_ITER = 150\n",
    "COST_ITER = 50\n",
    "SAVE_ITER = 2000\n",
    "BATCH_SIZE = 64\n",
    "\n",
    "for i in range(TRAIN_STEPS):\n",
    "    trainBatch, labelBatch = trainSet.next_batch(BATCH_SIZE)\n",
    "    \n",
    "    if i%COST_ITER == 0:\n",
    "        # Plotting cost\n",
    "        cost = cost.eval(feed_dict={x: trainBatch, y_: labelBatch, keep_prob: 1.0})\n",
    "        trainPlot.updateCost(cost, i // COST_ITER)\n",
    "    \n",
    "    if i%TEST_ITER == 0:\n",
    "        # Plotting accuracy\n",
    "        accEval = accuracy.eval(feed_dict={x: evalData, y_: evalLabels, keep_prob: 1.0})\n",
    "        accTrain = accuracy.eval(feed_dict={x: trainBatch, y_: labelBatch, keep_prob: 1.0})\n",
    "        trainPlot.updateAcc(accEval, accTrain, i // TEST_ITER)\n",
    "        \n",
    "    if i%SAVE_ITER == 0:\n",
    "        # Saving model\n",
    "        saver.save(sess, 'models/gap-clas/CNN-CG')\n",
    "        saver.export_meta_graph('models/gap-clas/CNN-CG.meta')\n",
    "\n",
    "    train_step.run(feed_dict={x: trainBatch, y_: labelBatch, keep_prob: 0.4})\n",
    "\n",
    "saver.save(sess, 'models/gap-clas/CNN-CG')\n",
    "saver.export_meta_graph('models/gap-clas/CNN-CG.meta')    \n",
    "\n",
    "print(\"Accuracy %g\" % accuracy.eval(feed_dict={x: evalData, y_: evalLabels, keep_prob: 1.0}))\n",
    "\n",
    "sess.close()"
   ]
  }
 ],
 "metadata": {
  "kernelspec": {
   "display_name": "Python 3",
   "language": "python",
   "name": "python3"
  },
  "language_info": {
   "codemirror_mode": {
    "name": "ipython",
    "version": 3
   },
   "file_extension": ".py",
   "mimetype": "text/x-python",
   "name": "python",
   "nbconvert_exporter": "python",
   "pygments_lexer": "ipython3",
   "version": "3.5.2+"
  }
 },
 "nbformat": 4,
 "nbformat_minor": 0
}
