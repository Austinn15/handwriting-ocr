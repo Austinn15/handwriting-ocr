{
 "cells": [
  {
   "cell_type": "markdown",
   "metadata": {},
   "source": [
    "# Gap / Char Classification\n",
    "Testing Tensorflow with simple models (Sigmoid and Sofmax)"
   ]
  },
  {
   "cell_type": "code",
   "execution_count": 1,
   "metadata": {
    "collapsed": false
   },
   "outputs": [
    {
     "name": "stdout",
     "output_type": "stream",
     "text": [
      "OpenCV: 3.1.0-dev\n",
      "Numpy: 1.12.0\n",
      "TensorFlow: 1.0.0-rc1\n"
     ]
    }
   ],
   "source": [
    "import numpy as np\n",
    "import pandas as pd\n",
    "import matplotlib.pyplot as plt\n",
    "import tensorflow as tf\n",
    "import cv2\n",
    "# Helper functions - ploting and resizing\n",
    "from ocr.helpers import implt\n",
    "\n",
    "# Creating CSV\n",
    "import glob\n",
    "import csv\n",
    "\n",
    "print(\"OpenCV: \" + cv2.__version__)\n",
    "print(\"Numpy: \" + np.__version__)\n",
    "print(\"TensorFlow: \" + tf.__version__)"
   ]
  },
  {
   "cell_type": "markdown",
   "metadata": {
    "collapsed": true
   },
   "source": [
    "## Load Images and Lables in CSV"
   ]
  },
  {
   "cell_type": "code",
   "execution_count": 3,
   "metadata": {
    "collapsed": false
   },
   "outputs": [
    {
     "name": "stdout",
     "output_type": "stream",
     "text": [
      "CSV data files loaded.\n",
      "Number of images: 10043\n",
      "Training images: 8034\n"
     ]
    }
   ],
   "source": [
    "images = np.genfromtxt('data/gapdet/data.csv', delimiter=',')\n",
    "labels = np.genfromtxt('data/gapdet/labels.csv', delimiter=',')\n",
    "labels = np.reshape(labels, (len(labels), 1))\n",
    "\n",
    "print(\"CSV data files loaded.\")\n",
    "print(\"Number of images: \" + str(len(images)))\n",
    "\n",
    "# Separate data into training/test dataset\n",
    "div = int(0.8 * len(images))\n",
    "\n",
    "trainData = images[0:div]\n",
    "trainLabels = labels[0:div]\n",
    "evalData = images[div:]\n",
    "evalLabels = labels[div:]\n",
    "print(\"Training images: %g\" % div)"
   ]
  },
  {
   "cell_type": "markdown",
   "metadata": {},
   "source": [
    "# Create classifier"
   ]
  },
  {
   "cell_type": "markdown",
   "metadata": {},
   "source": [
    "### Simoid"
   ]
  },
  {
   "cell_type": "code",
   "execution_count": 4,
   "metadata": {
    "collapsed": false
   },
   "outputs": [
    {
     "name": "stdout",
     "output_type": "stream",
     "text": [
      "0 #  Cost: 896.013  Accuracy: 0.595096\n",
      "500 #  Cost: 62.2901  Accuracy: 0.706622\n",
      "1000 #  Cost: 31.6872  Accuracy: 0.691187\n",
      "1500 #  Cost: 20.5937  Accuracy: 0.672268\n",
      "2000 #  Cost: 16.4272  Accuracy: 0.668907\n",
      "2500 #  Cost: 12.516  Accuracy: 0.657207\n",
      "3000 #  Cost: 10.4846  Accuracy: 0.644635\n",
      "3500 #  Cost: 9.44974  Accuracy: 0.631317\n",
      "4000 #  Cost: 13.0443  Accuracy: 0.669032\n",
      "4500 #  Cost: 6.65418  Accuracy: 0.599701\n",
      "Eval accuracy: 0.503733\n",
      "Total accuracy: 0.565269\n"
     ]
    }
   ],
   "source": [
    "# Place holders for data and labels\n",
    "x = tf.placeholder(tf.float32, [None, 1800], name = \"x\")\n",
    "y_ = tf.placeholder(tf.float32, [None, 1], name = \"y_\")\n",
    "\n",
    "# Variables\n",
    "W = tf.Variable(tf.random_normal([1800, 1]), name = \"W\")\n",
    "b = tf.Variable(tf.random_normal([1]), name = \"b\")\n",
    "\n",
    "y = tf.matmul(x, W) + b\n",
    "\n",
    "# Training Model\n",
    "cross_entropy = tf.reduce_mean(tf.nn.sigmoid_cross_entropy_with_logits(labels=y_, logits=y, name=\"Cost\"))\n",
    "train_step = tf.train.AdamOptimizer(0.001).minimize(cross_entropy)\n",
    "\n",
    "# Evaluating model\n",
    "correct_prediction = tf.equal(tf.sigmoid(y) , y_)\n",
    "accuracy = tf.reduce_mean(tf.cast(correct_prediction, tf.float32))\n",
    "\n",
    "sess = tf.InteractiveSession()\n",
    "sess.run(tf.global_variables_initializer())\n",
    "\n",
    "# For saving and using model\n",
    "activation = tf.sigmoid(tf.matmul(x, W) + b)\n",
    "tf.add_to_collection(\"activation\", activation)\n",
    "\n",
    "for i in range(5000):\n",
    "    # Training\n",
    "    sess.run(train_step, feed_dict={x: trainData, y_: trainLabels})\n",
    "    \n",
    "    if i % 500 == 0:\n",
    "        # Printing stats\n",
    "        cost = cross_entropy.eval(feed_dict={x: trainData, y_: trainLabels})\n",
    "        acc = accuracy.eval(feed_dict={x: trainData, y_: trainLabels})\n",
    "        print(\"%d #  Cost: %g  Accuracy: %g\" % (i, cost, acc))\n",
    "\n",
    "\n",
    "# Saving model\n",
    "saver = tf.train.Saver()\n",
    "saver.save(sess, 'models/CGClassifier')\n",
    "saver.export_meta_graph('models/CGClassifier.meta')\n",
    "\n",
    "print(\"Eval accuracy: %g\" % sess.run(accuracy, feed_dict={x: evalData, y_: evalLabels}))\n",
    "print(\"Total accuracy: %g\" % sess.run(accuracy, feed_dict={x: images, y_: labels}))\n",
    "\n",
    "sess.close()"
   ]
  },
  {
   "cell_type": "markdown",
   "metadata": {},
   "source": [
    "### Sofmax"
   ]
  },
  {
   "cell_type": "code",
   "execution_count": 5,
   "metadata": {
    "collapsed": false
   },
   "outputs": [],
   "source": [
    "def sofmaxLabels(lab):\n",
    "    \"\"\" Transform labels for sofmax classification \"\"\"\n",
    "    newLab = np.zeros((len(lab), 2), dtype=np.int8)\n",
    "    for i in range(len(lab)):\n",
    "        newLab[i][int(lab[i][0])] = 1\n",
    "    return newLab\n",
    "\n",
    "llabels = sofmaxLabels(labels)\n",
    "trainLabels = llabels[0:div]\n",
    "evalLabels = llabels[div:]"
   ]
  },
  {
   "cell_type": "code",
   "execution_count": 6,
   "metadata": {
    "collapsed": false
   },
   "outputs": [
    {
     "name": "stdout",
     "output_type": "stream",
     "text": [
      "0 #  Cost: 1266.78  Accuracy: 0.63754\n",
      "500 #  Cost: 68.9104  Accuracy: 0.790142\n",
      "1000 #  Cost: 37.6502  Accuracy: 0.786532\n",
      "1500 #  Cost: 31.6991  Accuracy: 0.826736\n",
      "2000 #  Cost: 31.6826  Accuracy: 0.808439\n",
      "2500 #  Cost: 19.9402  Accuracy: 0.835574\n",
      "3000 #  Cost: 13.1255  Accuracy: 0.814538\n",
      "3500 #  Cost: 11.0731  Accuracy: 0.822753\n",
      "4000 #  Cost: 12.0895  Accuracy: 0.838935\n",
      "4500 #  Cost: 15.069  Accuracy: 0.804456\n",
      "Eval accuracy: 0.670981\n",
      "Total accuracy: 0.806432\n"
     ]
    }
   ],
   "source": [
    "sess = tf.InteractiveSession()\n",
    "\n",
    "# Placeholders for data and labels\n",
    "x = tf.placeholder(tf.float32, [None, 1800])\n",
    "y_ = tf.placeholder(tf.float32, [None, 2])\n",
    "\n",
    "# Variables\n",
    "W = tf.Variable(tf.random_normal([1800, 2]))\n",
    "b = tf.Variable(tf.random_normal([2]))\n",
    "\n",
    "y = tf.matmul(x,W) + b\n",
    "\n",
    "# Cost function and optimizet\n",
    "cross_entropy = tf.reduce_mean(tf.nn.softmax_cross_entropy_with_logits(labels=y_, logits=y))\n",
    "train_step = tf.train.AdamOptimizer(0.001).minimize(cross_entropy)\n",
    "\n",
    "# Evaluation\n",
    "correct_prediction = tf.equal(tf.argmax(y, 1), tf.argmax(y_, 1))\n",
    "accuracy = tf.reduce_mean(tf.cast(correct_prediction, tf.float32))\n",
    "\n",
    "sess.run(tf.global_variables_initializer())\n",
    "\n",
    "for i in range(5000):\n",
    "    # Training\n",
    "    sess.run(train_step, feed_dict={x: trainData, y_: trainLabels})\n",
    "    \n",
    "    if i % 500 == 0:\n",
    "        # Printing stats\n",
    "        cost = cross_entropy.eval(feed_dict={x: trainData, y_: trainLabels})\n",
    "        acc = accuracy.eval(feed_dict={x: trainData, y_: trainLabels})\n",
    "        print(\"%d #  Cost: %g  Accuracy: %g\" % (i, cost, acc))\n",
    "\n",
    "    \n",
    "\n",
    "print(\"Eval accuracy: %g\" % accuracy.eval(feed_dict={x: evalData, y_: evalLabels}))\n",
    "print(\"Total accuracy: %g\" % accuracy.eval(feed_dict={x: images, y_: llabels}))\n",
    "\n",
    "sess.close()"
   ]
  }
 ],
 "metadata": {
  "kernelspec": {
   "display_name": "Python 3",
   "language": "python",
   "name": "python3"
  },
  "language_info": {
   "codemirror_mode": {
    "name": "ipython",
    "version": 3
   },
   "file_extension": ".py",
   "mimetype": "text/x-python",
   "name": "python",
   "nbconvert_exporter": "python",
   "pygments_lexer": "ipython3",
   "version": "3.5.2+"
  }
 },
 "nbformat": 4,
 "nbformat_minor": 0
}
