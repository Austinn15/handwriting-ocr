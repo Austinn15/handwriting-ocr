{
 "cells": [
  {
   "cell_type": "markdown",
   "metadata": {},
   "source": [
    "# Character Classification - Data Mining\n",
    "Simple UI for creating data for character classification"
   ]
  },
  {
   "cell_type": "code",
   "execution_count": null,
   "metadata": {
    "collapsed": false
   },
   "outputs": [],
   "source": [
    "import numpy as np\n",
    "import pandas as pd\n",
    "import matplotlib.pyplot as plt\n",
    "import cv2\n",
    "# Import Widgets\n",
    "from ipywidgets import Button, Text, HBox, VBox\n",
    "from IPython.display import display, clear_output\n",
    "# Timestamp\n",
    "import time\n",
    "# For transforming letters encoding (removing accents)\n",
    "import unicodedata as ud\n",
    "# Creating folders\n",
    "import os\n",
    "\n",
    "# Import costume functions, corresponding to notebooks\n",
    "from ocr import page, words, charSeg\n",
    "from ocr.normalization import imageNorm\n",
    "# Helper functions - ploting and resizing\n",
    "from ocr.helpers import implt, resize, ratio"
   ]
  },
  {
   "cell_type": "markdown",
   "metadata": {},
   "source": [
    "## Global variables"
   ]
  },
  {
   "cell_type": "code",
   "execution_count": null,
   "metadata": {
    "collapsed": false
   },
   "outputs": [],
   "source": [
    "IMG = \"text\""
   ]
  },
  {
   "cell_type": "markdown",
   "metadata": {},
   "source": [
    "## Load image"
   ]
  },
  {
   "cell_type": "code",
   "execution_count": null,
   "metadata": {
    "collapsed": false
   },
   "outputs": [],
   "source": [
    "image = cv2.cvtColor(cv2.imread(\"data/pagedet/%s.jpg\" % IMG), cv2.COLOR_BGR2RGB)\n",
    "implt(image)"
   ]
  },
  {
   "cell_type": "code",
   "execution_count": null,
   "metadata": {
    "collapsed": false
   },
   "outputs": [],
   "source": [
    "crop = page.detection(image)\n",
    "implt(crop)\n",
    "bBoxes = words.detection(crop)"
   ]
  },
  {
   "cell_type": "markdown",
   "metadata": {},
   "source": [
    "# Simple UI using widgets"
   ]
  },
  {
   "cell_type": "code",
   "execution_count": null,
   "metadata": {
    "collapsed": false
   },
   "outputs": [],
   "source": [
    "class Cycler:\n",
    "    \"\"\" Cycle through the chars, save data \"\"\"\n",
    "    height = 60\n",
    "    \n",
    "    def __init__(self, image, boxes, idx):\n",
    "        self.boxes = boxes       # Array of bounding boxes\n",
    "        self.image = image       # Whole image\n",
    "        self.index = idx         # Index of current bounding box\n",
    "        self.charIdx = 0         # Position po slider\n",
    "        self.actual = image      # Current image of word\n",
    "        self.char = None         # Actual char image\n",
    "        self.nextImg()\n",
    "        \n",
    "    def save(self, sender, val=1):\n",
    "        \"\"\" \n",
    "        Saving current char into dataset\n",
    "        Saving the letter both in EN and CZ dataset\n",
    "        \"\"\"\n",
    "        letter = sender.value\n",
    "        sender.value = \"\"\n",
    "        \n",
    "        if self.char is None:\n",
    "            self.nextChar()\n",
    "        else:\n",
    "            if len(letter) == 1:\n",
    "                # Remove accents for EN dataset\n",
    "                letterEN = ud.normalize('NFKD', letter)[0]\n",
    "\n",
    "                dirCZ = \"data/charclas/cz/\" + letter\n",
    "                dirEN = \"data/charclas/en/\" + letterEN\n",
    "\n",
    "                # Create dir if it doesn't exist\n",
    "                os.makedirs(dirCZ, exist_ok=True)\n",
    "                os.makedirs(dirEN, exist_ok=True)\n",
    "\n",
    "                # Save the letter\n",
    "                cv2.imwrite(\"%s/%s.jpg\" % (dirCZ, time.time()), self.char)            \n",
    "                cv2.imwrite(\"%s/%s.jpg\" % (dirEN, time.time()), self.char)\n",
    "\n",
    "                self.nextChar()                  \n",
    "            else:\n",
    "                print(\"Enter single letter.\")  \n",
    "        \n",
    "    def nextChar(self, b=None):\n",
    "        \"\"\" Ploting next char from the word \"\"\"        \n",
    "        # Clearing jupyter output for new image\n",
    "        clear_output()\n",
    "        idx = self.charIdx\n",
    "        gaps = self.gaps\n",
    "        \n",
    "        if idx < len(gaps) - 1:\n",
    "            # Cutting char image - for save function\n",
    "            self.char = self.actual[0:self.height, gaps[idx]:gaps[idx+1]]\n",
    "            implt(self.char, 'gray')\n",
    "            self.charIdx += 1\n",
    "        else:\n",
    "            if self.nextImg() == -1:\n",
    "                print(\"END\")\n",
    "\n",
    "    def nextImg(self, b=None):\n",
    "        \"\"\" Getting next image from the array \"\"\"\n",
    "        clear_output()\n",
    "        self.char = None\n",
    "        self.charIdx = 0\n",
    "        if self.index < len(self.boxes):\n",
    "            b = self.boxes[self.index]\n",
    "            x1, y1, x2, y2 = b\n",
    "            \n",
    "            # Cuting out the word image and resizing to standard height\n",
    "            img = self.image[y1:y2, x1:x2]\n",
    "            img = resize(img, self.height, True)\n",
    "            \n",
    "            implt(img, t='Index: ' + str(self.index))            \n",
    "\n",
    "            self.index += 1\n",
    "            \n",
    "            self.actual = imageNorm(img, self.height)\n",
    "            \n",
    "            self.gaps = charSeg.segmentation(self.actual, debug=True)\n",
    "            \n",
    "            return 0\n",
    "        else:\n",
    "            print(\"END\")\n",
    "            return -1"
   ]
  },
  {
   "cell_type": "code",
   "execution_count": null,
   "metadata": {
    "collapsed": false
   },
   "outputs": [],
   "source": [
    "#  Last index\n",
    "LAST_INDEX = 2\n",
    "# Class cycling through text positions\n",
    "cycler = Cycler(crop, bBoxes, LAST_INDEX)\n",
    "\n",
    "tSaver = Text(description=\"Save Char\")\n",
    "bNex = Button(description=\"Next Char\")\n",
    "bNexi = Button(description=\"Next Image\")\n",
    "\n",
    "tSaver.on_submit(cycler.save)\n",
    "bNex.on_click(cycler.nextChar)\n",
    "bNexi.on_click(cycler.nextImg)\n",
    "\n",
    "VBox([tSaver, HBox([bNexi, bNex])])"
   ]
  },
  {
   "cell_type": "code",
   "execution_count": null,
   "metadata": {
    "collapsed": true
   },
   "outputs": [],
   "source": [
    "### RULES FOR CREATING DATASET ###\n",
    "#\n",
    "# Label every possible letter, skip wrong det\n",
    "# Differentiate between upper and lower letters\n",
    "# Use all czech letters except CH\n",
    "# If threre is image without char put 0\n",
    "#\n",
    "###################################\n",
    "\n",
    "\n",
    "### Space for Notes ###\n",
    "#\n",
    "# Creat dataset paper\n",
    "#\n",
    "#######################"
   ]
  }
 ],
 "metadata": {
  "kernelspec": {
   "display_name": "Python 3",
   "language": "python",
   "name": "python3"
  },
  "language_info": {
   "codemirror_mode": {
    "name": "ipython",
    "version": 3
   },
   "file_extension": ".py",
   "mimetype": "text/x-python",
   "name": "python",
   "nbconvert_exporter": "python",
   "pygments_lexer": "ipython3",
   "version": "3.5.2+"
  }
 },
 "nbformat": 4,
 "nbformat_minor": 1
}
