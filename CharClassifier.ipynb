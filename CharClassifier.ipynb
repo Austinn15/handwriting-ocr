{
 "cells": [
  {
   "cell_type": "markdown",
   "metadata": {},
   "source": [
    "# Convolutional Neural Network - Char Classification\n",
    "Using TensorFlow"
   ]
  },
  {
   "cell_type": "code",
   "execution_count": 1,
   "metadata": {},
   "outputs": [
    {
     "name": "stdout",
     "output_type": "stream",
     "text": [
      "OpenCV: 3.1.0\n",
      "Numpy: 1.12.1\n",
      "TensorFlow: 1.1.0-rc2\n"
     ]
    }
   ],
   "source": [
    "import numpy as np\n",
    "import pandas as pd\n",
    "import matplotlib.pyplot as plt\n",
    "import tensorflow as tf\n",
    "import cv2\n",
    "\n",
    "%matplotlib notebook\n",
    "\n",
    "# Creating CSV\n",
    "import glob\n",
    "import csv\n",
    "\n",
    "# Display Graph\n",
    "from IPython.display import clear_output, Image, display, HTML\n",
    "\n",
    "# Helpers\n",
    "from ocr.helpers import implt\n",
    "from ocr.mlhelpers import TrainingPlot, DataSet\n",
    "\n",
    "print(\"OpenCV: \" + cv2.__version__)\n",
    "print(\"Numpy: \" + np.__version__)\n",
    "print(\"TensorFlow: \" + tf.__version__)"
   ]
  },
  {
   "cell_type": "code",
   "execution_count": 2,
   "metadata": {
    "collapsed": true
   },
   "outputs": [],
   "source": [
    "def sofmaxLabels(lab, clas):\n",
    "    \"\"\" Transform labels for sofmax classification \"\"\"\n",
    "    newLab = np.zeros((len(lab), clas), dtype=np.int8)\n",
    "    for i in range(len(lab)):\n",
    "        newLab[i][int(lab[i][0])] = 1\n",
    "    return newLab"
   ]
  },
  {
   "cell_type": "markdown",
   "metadata": {},
   "source": [
    "### Global Variables"
   ]
  },
  {
   "cell_type": "code",
   "execution_count": 3,
   "metadata": {
    "collapsed": true
   },
   "outputs": [],
   "source": [
    "LANG = 'en'"
   ]
  },
  {
   "cell_type": "markdown",
   "metadata": {
    "collapsed": true
   },
   "source": [
    "## Load Images and Lables in CSV"
   ]
  },
  {
   "cell_type": "code",
   "execution_count": 4,
   "metadata": {},
   "outputs": [
    {
     "name": "stdout",
     "output_type": "stream",
     "text": [
      "CSV data files loaded.\n",
      "Number of images: 2607\n",
      "Training images: 2085\n"
     ]
    }
   ],
   "source": [
    "EN_CLAS = 53\n",
    "CZ_CLAS = 83\n",
    "CLAS = 53\n",
    "\n",
    "if LANG == 'en':\n",
    "    CLAS = EN_CLAS\n",
    "elif LANG == 'cz':\n",
    "    CLAS = CZ_CLAS\n",
    "\n",
    "# dimension 64x64 = 4096\n",
    "images = np.genfromtxt('data/charclas/' + LANG + '-data.csv', delimiter=',')\n",
    "labels = np.genfromtxt('data/charclas/' + LANG + '-labels.csv', delimiter=',')\n",
    "labels = np.reshape(labels, (len(labels), 1))\n",
    "\n",
    "# Regularization of images\n",
    "images[images < 40] = 0\n",
    "images = images.astype(np.float32)\n",
    "images = np.multiply(images, 1.0 / 255.0)\n",
    "\n",
    "print(\"CSV data files loaded.\")\n",
    "print(\"Number of images: \" + str(len(images)))\n",
    "\n",
    "# Splitting into train and test data\n",
    "div = int(0.80 * len(images))\n",
    "\n",
    "# Transform labels for sofmax output\n",
    "llabels = sofmaxLabels(labels, CLAS)\n",
    "\n",
    "trainData = images[0:div]\n",
    "evalData = images[div:]\n",
    "\n",
    "trainLabels = llabels[0:div]\n",
    "evalLabels = llabels[div:]\n",
    "\n",
    "print(\"Training images: %g\" % div)"
   ]
  },
  {
   "cell_type": "markdown",
   "metadata": {},
   "source": [
    "# Create classifier"
   ]
  },
  {
   "cell_type": "markdown",
   "metadata": {},
   "source": [
    "### Dataset"
   ]
  },
  {
   "cell_type": "code",
   "execution_count": 5,
   "metadata": {
    "collapsed": true
   },
   "outputs": [],
   "source": [
    "# Prepare training dataset\n",
    "trainSet = DataSet(trainData, trainLabels)"
   ]
  },
  {
   "cell_type": "markdown",
   "metadata": {},
   "source": [
    "## KNN"
   ]
  },
  {
   "cell_type": "code",
   "execution_count": 6,
   "metadata": {},
   "outputs": [
    {
     "name": "stdout",
     "output_type": "stream",
     "text": [
      "Accuracy: 0.6704980842911906\n"
     ]
    }
   ],
   "source": [
    "with tf.name_scope(\"KNN\") as scope:\n",
    "    # tf Graph Input\n",
    "    xtr = tf.placeholder(\"float\", [None, 4096])\n",
    "    xte = tf.placeholder(\"float\", [4096])\n",
    "\n",
    "    # Nearest Neighbor calculation using L1 Distance\n",
    "    # Calculate L1 Distance\n",
    "    distance = tf.reduce_sum(tf.abs(tf.add(xtr, tf.negative(xte))), reduction_indices=1)\n",
    "    # Prediction: Get min distance index (Nearest neighbor)\n",
    "    pred = tf.arg_min(distance, 0)\n",
    "\n",
    "accuracy = 0.\n",
    "\n",
    "# Initializing the variables\n",
    "init = tf.global_variables_initializer()\n",
    "\n",
    "# Launch the graph\n",
    "with tf.Session() as sess:\n",
    "    sess.run(init)\n",
    "\n",
    "    # loop over test data\n",
    "    for i in range(len(evalData)):\n",
    "        # Get nearest neighbor\n",
    "        nn_index = sess.run(pred, feed_dict={xtr: trainData, xte: evalData[i, :]})\n",
    "        # Calculate accuracy\n",
    "        if np.argmax(trainLabels[nn_index]) == np.argmax(evalLabels[i]):\n",
    "            accuracy += 1./len(evalData)\n",
    "            \n",
    "print(\"Accuracy:\", accuracy)"
   ]
  },
  {
   "cell_type": "markdown",
   "metadata": {},
   "source": [
    "## Convulation Neural Network"
   ]
  },
  {
   "cell_type": "markdown",
   "metadata": {},
   "source": [
    "### Graph"
   ]
  },
  {
   "cell_type": "code",
   "execution_count": 7,
   "metadata": {
    "collapsed": true
   },
   "outputs": [],
   "source": [
    "tf.reset_default_graph()\n",
    "sess = tf.InteractiveSession()\n",
    "\n",
    "# Functions for initializing convulation and pool layers\n",
    "def conv2d(x, W):\n",
    "    return tf.nn.conv2d(x, W, strides=[1, 1, 1, 1], padding='SAME')\n",
    "\n",
    "def max_pool_2x2(x):\n",
    "    return tf.nn.max_pool(x, ksize=[1, 2, 2, 1], strides=[1, 2, 2, 1], padding='SAME')\n",
    "\n",
    "\n",
    "# Place holders for data (x) and labels (y_)\n",
    "x = tf.placeholder(tf.float32, [None, 4096], name=\"x\")\n",
    "y_ = tf.placeholder(tf.float32, [None, CLAS])\n",
    "\n",
    "# Reshape data\n",
    "x_image = tf.reshape(x, [-1, 64, 64, 1])\n",
    "\n",
    "# 1. Layer - Convulation + Subsampling\n",
    "W_conv1 = tf.get_variable('W_conv1', shape=[5, 5, 1, 10],\n",
    "                          initializer=tf.contrib.layers.xavier_initializer())\n",
    "b_conv1 = tf.Variable(tf.constant(0.1, shape=[10]), name=\"b_conv1\")\n",
    "\n",
    "h_conv1 = tf.nn.relu(conv2d(x_image, W_conv1) + b_conv1)    \n",
    "\n",
    "# 2. Layer - Max Pool\n",
    "h_pool1 = max_pool_2x2(h_conv1)    \n",
    "\n",
    "# 3. Layer - Convulation + Subsampling\n",
    "W_conv2 = tf.get_variable('W_conv2', shape=[5, 5, 10, 20],\n",
    "                          initializer=tf.contrib.layers.xavier_initializer())\n",
    "b_conv2 = tf.Variable(tf.constant(0.1, shape=[20]), name=\"b_conv2\")\n",
    "\n",
    "h_conv2 = tf.nn.relu(conv2d(h_pool1, W_conv2) + b_conv2)    \n",
    "\n",
    "# 4. Layer - Max Pool\n",
    "h_pool2 = max_pool_2x2(h_conv2)    \n",
    "\n",
    "# 5. Layer - Convulation + Subsampling\n",
    "W_conv3 = tf.get_variable('W_conv3', shape=[3, 3, 20, 40],\n",
    "                          initializer=tf.contrib.layers.xavier_initializer())\n",
    "b_conv3 = tf.Variable(tf.constant(0.1, shape=[40]), name=\"b_conv3\")\n",
    "\n",
    "h_conv3 = tf.nn.relu(conv2d(h_pool2, W_conv3) + b_conv3)    \n",
    "\n",
    "# 6. Layer - Max Pool\n",
    "h_pool3 = max_pool_2x2(h_conv3)\n",
    "\n",
    "# Reshape filters into flat arraty\n",
    "h_flat = tf.reshape(h_pool3, [-1, 8*8*40])    \n",
    "\n",
    "# 7. Fully Connected layer\n",
    "W_fc1 = tf.get_variable('W_fc1', shape=[8*8*40, 80],\n",
    "                        initializer=tf.contrib.layers.xavier_initializer())\n",
    "b_fc1 = tf.Variable(tf.constant(0.1, shape=[80]), name=\"b_fc1\")\n",
    "\n",
    "h_fc1 = tf.nn.relu(tf.matmul(h_flat, W_fc1) + b_fc1)    \n",
    "\n",
    "# 8. Dropout\n",
    "keep_prob = tf.placeholder(tf.float32)\n",
    "h_fc1_drop = tf.nn.dropout(h_fc1, keep_prob)\n",
    "\n",
    "# 9. Output layer\n",
    "W_fc2 = tf.get_variable('W_fc2', shape=[80, CLAS],\n",
    "                        initializer=tf.contrib.layers.xavier_initializer())\n",
    "b_fc2 = tf.Variable(tf.constant(0.1, shape=[CLAS]), name=\"b_fc2\")\n",
    "\n",
    "y_conv = tf.matmul(h_fc1_drop, W_fc2) + b_fc2\n",
    "\n",
    "\n",
    "# Creating activation function for using the model when imported\n",
    "activation = tf.argmax(tf.matmul(h_fc1, W_fc2) + b_fc2, 1)\n",
    "tf.add_to_collection('activation', activation)\n",
    "\n",
    "\n",
    "# Cost: cross entropy + regularization\n",
    "# Regularization with L2 Regularization with decaying learning rate\n",
    "cross_entropy = tf.nn.softmax_cross_entropy_with_logits(logits=y_conv, labels=y_)\n",
    "beta = 0.1\n",
    "regularizers = tf.nn.l2_loss(W_fc2) + tf.nn.l2_loss(W_fc1)\n",
    "cost = tf.reduce_mean(cross_entropy + beta * regularizers)\n",
    "\n",
    "\n",
    "# Optimizing model parametrs\n",
    "train_step = tf.train.AdamOptimizer(1e-4).minimize(cost)\n",
    "\n",
    "\n",
    "# Measuring accuracy of model\n",
    "correct_prediction = tf.equal(tf.argmax(y_conv, 1), tf.argmax(y_, 1))\n",
    "accuracy = tf.reduce_mean(tf.cast(correct_prediction, tf.float32))"
   ]
  },
  {
   "cell_type": "markdown",
   "metadata": {},
   "source": [
    "### Training"
   ]
  },
  {
   "cell_type": "code",
   "execution_count": 8,
   "metadata": {},
   "outputs": [
    {
     "ename": "NameError",
     "evalue": "name 'TRAIN_STEPS' is not defined",
     "output_type": "error",
     "traceback": [
      "\u001b[0;31m---------------------------------------------------------------------------\u001b[0m",
      "\u001b[0;31mNameError\u001b[0m                                 Traceback (most recent call last)",
      "\u001b[0;32m<ipython-input-8-558acade818f>\u001b[0m in \u001b[0;36m<module>\u001b[0;34m()\u001b[0m\n\u001b[1;32m      6\u001b[0m \u001b[0;34m\u001b[0m\u001b[0m\n\u001b[1;32m      7\u001b[0m \u001b[0;31m# Creat plot for live stats ploting\u001b[0m\u001b[0;34m\u001b[0m\u001b[0;34m\u001b[0m\u001b[0m\n\u001b[0;32m----> 8\u001b[0;31m \u001b[0mtrainPlot\u001b[0m \u001b[0;34m=\u001b[0m \u001b[0mTrainingPlot\u001b[0m\u001b[0;34m(\u001b[0m\u001b[0mTRAIN_STEPS\u001b[0m\u001b[0;34m,\u001b[0m \u001b[0mTEST_ITER\u001b[0m\u001b[0;34m,\u001b[0m \u001b[0mCOST_ITER\u001b[0m\u001b[0;34m)\u001b[0m\u001b[0;34m\u001b[0m\u001b[0m\n\u001b[0m\u001b[1;32m      9\u001b[0m \u001b[0;34m\u001b[0m\u001b[0m\n\u001b[1;32m     10\u001b[0m \u001b[0;31m### SETTINGS  ###\u001b[0m\u001b[0;34m\u001b[0m\u001b[0;34m\u001b[0m\u001b[0m\n",
      "\u001b[0;31mNameError\u001b[0m: name 'TRAIN_STEPS' is not defined"
     ]
    }
   ],
   "source": [
    "sess.run(tf.global_variables_initializer())\n",
    "saver = tf.train.Saver()\n",
    "\n",
    "# Set the logs writer to the folder and save graph for Tensorboard\n",
    "summary_writer = tf.summary.FileWriter('logs', sess.graph)\n",
    "\n",
    "### SETTINGS  ###\n",
    "TRAIN_STEPS = 50000\n",
    "TEST_ITER = 150\n",
    "COST_ITER = 50\n",
    "SAVE_ITER = 2000\n",
    "BATCH_SIZE = 64\n",
    "\n",
    "# Creat plot for live stats ploting\n",
    "trainPlot = TrainingPlot(TRAIN_STEPS, TEST_ITER, COST_ITER)\n",
    "\n",
    "for i in range(TRAIN_STEPS):\n",
    "    trainBatch, labelBatch = trainSet.next_batch(BATCH_SIZE)\n",
    "\n",
    "    \n",
    "    if i%COST_ITER == 0:\n",
    "        # Plotting cost\n",
    "        tmpCost = cost.eval(feed_dict={x: trainBatch, y_: labelBatch, keep_prob: 1.0})\n",
    "        trainPlot.updateCost(tmpCost, i // COST_ITER)\n",
    "    \n",
    "    if i%TEST_ITER == 0:\n",
    "        # Plotting accuracy\n",
    "        accEval = accuracy.eval(feed_dict={x: evalData, y_: evalLabels, keep_prob: 1.0})\n",
    "        accTrain = accuracy.eval(feed_dict={x: trainBatch, y_: labelBatch, keep_prob: 1.0})\n",
    "        trainPlot.updateAcc(accEval, accTrain, i // TEST_ITER)\n",
    "        \n",
    "    if i%SAVE_ITER == 0:\n",
    "        saver.save(sess, 'models/char-clas/' + LANG + '/CharClassifier')\n",
    "\n",
    "    train_step.run(feed_dict={x: trainBatch, y_: labelBatch, keep_prob: 0.4})\n",
    "\n",
    "# Final Save\n",
    "saver.save(sess, 'models/char-clas/' + LANG + '/CharClassifier')\n",
    "\n",
    "print(\"Accuracy %g\" % accuracy.eval(feed_dict={x: evalData, y_: evalLabels, keep_prob: 1.0}))\n",
    "\n",
    "sess.close()"
   ]
  }
 ],
 "metadata": {
  "kernelspec": {
   "display_name": "Python 3",
   "language": "python",
   "name": "python3"
  },
  "language_info": {
   "codemirror_mode": {
    "name": "ipython",
    "version": 3
   },
   "file_extension": ".py",
   "mimetype": "text/x-python",
   "name": "python",
   "nbconvert_exporter": "python",
   "pygments_lexer": "ipython3",
   "version": "3.6.1"
  }
 },
 "nbformat": 4,
 "nbformat_minor": 1
}
